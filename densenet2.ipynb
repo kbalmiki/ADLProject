{
 "cells": [
  {
   "cell_type": "code",
   "id": "initial_id",
   "metadata": {
    "collapsed": true,
    "ExecuteTime": {
     "end_time": "2025-05-16T14:24:43.066816Z",
     "start_time": "2025-05-16T14:24:40.689977Z"
    }
   },
   "source": [
    "import os\n",
    "import torch\n",
    "import torch.nn as nn\n",
    "import torch.optim as optim\n",
    "from torch.utils.data import DataLoader, random_split\n",
    "from torchvision import datasets, transforms, models\n",
    "import matplotlib.pyplot as plt\n",
    "import numpy as np\n",
    "from sklearn.metrics import classification_report, confusion_matrix, accuracy_score, f1_score$\n",
    "import seaborn as sns\n",
    "\n",
    "# Device setup\n",
    "device = torch.device(\"cuda\" if torch.cuda.is_available() else \"cpu\")\n",
    "print(f\"Using device: {device}\")"
   ],
   "outputs": [
    {
     "name": "stdout",
     "output_type": "stream",
     "text": [
      "Using device: cpu\n"
     ]
    }
   ],
   "execution_count": 1
  },
  {
   "metadata": {
    "ExecuteTime": {
     "end_time": "2025-05-16T14:24:44.477608Z",
     "start_time": "2025-05-16T14:24:44.474562Z"
    }
   },
   "cell_type": "code",
   "source": [
    "# Paths\n",
    "data_dir = 'chest-xray'\n",
    "\n",
    "# Transforms\n",
    "train_transform = transforms.Compose([\n",
    "    transforms.Resize((224, 224)),\n",
    "    transforms.RandomHorizontalFlip(),\n",
    "    transforms.RandomRotation(10),\n",
    "    transforms.RandomResizedCrop(224, scale=(0.8, 1.0)),\n",
    "    transforms.ToTensor(),\n",
    "    transforms.Normalize(mean=[0.5], std=[0.5])\n",
    "])\n",
    "\n",
    "val_test_transform = transforms.Compose([\n",
    "    transforms.Resize((224, 224)),\n",
    "    transforms.ToTensor(),\n",
    "    transforms.Normalize(mean=[0.5], std=[0.5])\n",
    "])"
   ],
   "id": "d48a254a1dc291ed",
   "outputs": [],
   "execution_count": 2
  },
  {
   "metadata": {
    "ExecuteTime": {
     "end_time": "2025-05-16T14:24:47.768388Z",
     "start_time": "2025-05-16T14:24:47.750067Z"
    }
   },
   "cell_type": "code",
   "source": [
    "# Datasets\n",
    "train_dataset = datasets.ImageFolder(os.path.join(data_dir, 'train'), transform=train_transform)\n",
    "val_dataset = datasets.ImageFolder(os.path.join(data_dir, 'val'), transform=val_test_transform)\n",
    "test_dataset = datasets.ImageFolder(os.path.join(data_dir, 'test'), transform=val_test_transform)\n",
    "\n",
    "# Adjust validation data: Add more data from the training set to the validation set\n",
    "num_train_samples = len(train_dataset)\n",
    "num_val_samples = len(val_dataset)\n"
   ],
   "id": "323633ec6aaee38c",
   "outputs": [],
   "execution_count": 3
  },
  {
   "metadata": {
    "ExecuteTime": {
     "end_time": "2025-05-16T14:24:49.459713Z",
     "start_time": "2025-05-16T14:24:49.455045Z"
    }
   },
   "cell_type": "code",
   "source": [
    "# Calculate how many samples to move from training set to validation set\n",
    "# Let's move 25% of the training data to validation\n",
    "num_samples_to_move = int(0.25 * num_train_samples)\n",
    "\n",
    "# Randomly select samples from the training set\n",
    "train_indices = torch.randperm(num_train_samples).tolist()\n",
    "val_indices = train_indices[:num_samples_to_move]\n",
    "train_indices = train_indices[num_samples_to_move:]\n",
    "\n",
    "# Create subsets of train and validation data\n",
    "train_subset = torch.utils.data.Subset(train_dataset, train_indices)\n",
    "val_subset = torch.utils.data.Subset(train_dataset, val_indices)\n",
    "\n",
    "# Now, concatenate the current val_dataset with val_subset\n",
    "val_dataset_combined = torch.utils.data.ConcatDataset([val_subset, val_dataset])"
   ],
   "id": "ecc50ea472806934",
   "outputs": [],
   "execution_count": 4
  },
  {
   "metadata": {
    "ExecuteTime": {
     "end_time": "2025-05-16T14:24:53.781905Z",
     "start_time": "2025-05-16T14:24:53.778181Z"
    }
   },
   "cell_type": "code",
   "source": [
    "# DataLoaders\n",
    "train_loader = DataLoader(train_subset, batch_size=32, shuffle=True)\n",
    "val_loader = DataLoader(val_dataset_combined, batch_size=32, shuffle=False)\n",
    "test_loader = DataLoader(test_dataset, batch_size=32, shuffle=False)\n",
    "\n",
    "# Print dataset info\n",
    "print(f\"Train: {len(train_subset)}, Val: {len(val_dataset_combined)}, Test: {len(test_dataset)}\")\n",
    "print(\"Classes:\", train_dataset.class_to_idx)  # {'NORMAL': 0, 'PNEUMONIA': 1}\n"
   ],
   "id": "6187f5eae2a7c431",
   "outputs": [
    {
     "name": "stdout",
     "output_type": "stream",
     "text": [
      "Train: 3912, Val: 1320, Test: 624\n",
      "Classes: {'NORMAL': 0, 'PNEUMONIA': 1}\n"
     ]
    }
   ],
   "execution_count": 5
  },
  {
   "metadata": {
    "ExecuteTime": {
     "end_time": "2025-05-16T14:24:57.857165Z",
     "start_time": "2025-05-16T14:24:57.634817Z"
    }
   },
   "cell_type": "code",
   "source": [
    "# Load DenseNet and adjust for binary classification\n",
    "model = models.densenet121(pretrained=True)\n",
    "num_features = model.classifier.in_features\n",
    "model.classifier = nn.Linear(num_features, 2)\n",
    "model = model.to(device)\n",
    "\n",
    "# Loss and optimizer\n",
    "criterion = nn.CrossEntropyLoss()\n",
    "optimizer = optim.Adam(model.parameters(), lr=1e-4)"
   ],
   "id": "8b1f07edfa4b13be",
   "outputs": [
    {
     "name": "stderr",
     "output_type": "stream",
     "text": [
      "/Users/mayuri/PycharmProjects/Lab0/pythonProject/.venv/lib/python3.12/site-packages/torchvision/models/_utils.py:208: UserWarning: The parameter 'pretrained' is deprecated since 0.13 and may be removed in the future, please use 'weights' instead.\n",
      "  warnings.warn(\n",
      "/Users/mayuri/PycharmProjects/Lab0/pythonProject/.venv/lib/python3.12/site-packages/torchvision/models/_utils.py:223: UserWarning: Arguments other than a weight enum or `None` for 'weights' are deprecated since 0.13 and may be removed in the future. The current behavior is equivalent to passing `weights=DenseNet121_Weights.IMAGENET1K_V1`. You can also use `weights=DenseNet121_Weights.DEFAULT` to get the most up-to-date weights.\n",
      "  warnings.warn(msg)\n"
     ]
    }
   ],
   "execution_count": 6
  },
  {
   "metadata": {
    "ExecuteTime": {
     "end_time": "2025-05-16T14:25:22.618404Z",
     "start_time": "2025-05-16T14:25:22.613826Z"
    }
   },
   "cell_type": "code",
   "source": [
    "# Training function without early stopping\n",
    "def train_model(model, epochs=5):\n",
    "    for epoch in range(epochs):\n",
    "        model.train()\n",
    "        running_loss = 0.0\n",
    "\n",
    "        for images, labels in train_loader:\n",
    "            images, labels = images.to(device), labels.to(device)\n",
    "\n",
    "            optimizer.zero_grad()\n",
    "            outputs = model(images)\n",
    "            loss = criterion(outputs, labels)\n",
    "            loss.backward()\n",
    "            optimizer.step()\n",
    "\n",
    "            running_loss += loss.item()\n",
    "\n",
    "        # Validation\n",
    "        model.eval()\n",
    "        val_preds, val_labels = [], []\n",
    "        with torch.no_grad():\n",
    "            for images, labels in val_loader:\n",
    "                images, labels = images.to(device), labels.to(device)\n",
    "                outputs = model(images)\n",
    "                _, predicted = torch.max(outputs, 1)\n",
    "                val_preds.extend(predicted.cpu().numpy())\n",
    "                val_labels.extend(labels.cpu().numpy())\n",
    "\n",
    "        val_acc = accuracy_score(val_labels, val_preds) * 100\n",
    "        val_f1 = f1_score(val_labels, val_preds)\n",
    "\n",
    "        print(f\"Epoch {epoch+1}/{epochs} | Loss: {running_loss:.4f} | Val Acc: {val_acc:.2f}% | Val F1: {val_f1:.4f}\")"
   ],
   "id": "64226620d6f2732d",
   "outputs": [],
   "execution_count": 9
  },
  {
   "metadata": {
    "ExecuteTime": {
     "end_time": "2025-05-16T14:25:25.632340Z",
     "start_time": "2025-05-16T14:25:25.628175Z"
    }
   },
   "cell_type": "code",
   "source": [
    "# Test evaluation with confusion matrix\n",
    "def evaluate_model(model, model_path=\"best_model.pth\"):\n",
    "    model.load_state_dict(torch.load(model_path))\n",
    "    model.eval()\n",
    "    y_true, y_pred = [], []\n",
    "\n",
    "    with torch.no_grad():\n",
    "        for images, labels in test_loader:\n",
    "            images, labels = images.to(device), labels.to(device)\n",
    "            outputs = model(images)\n",
    "            _, predicted = torch.max(outputs, 1)\n",
    "            y_true.extend(labels.cpu().numpy())\n",
    "            y_pred.extend(predicted.cpu().numpy())\n",
    "\n",
    "    acc = accuracy_score(y_true, y_pred)\n",
    "    f1 = f1_score(y_true, y_pred)\n",
    "    print(f\"\\n Test Accuracy: {acc*100:.2f}%\")\n",
    "    print(f\"Test F1 Score: {f1:.4f}\")\n",
    "    print(\"\\nDetailed Classification Report:\")\n",
    "    print(classification_report(y_true, y_pred, target_names=['NORMAL', 'PNEUMONIA']))\n",
    "\n",
    "    # Confusion matrix\n",
    "    cm = confusion_matrix(y_true, y_pred)\n",
    "    plt.figure(figsize=(6, 5))\n",
    "    sns.heatmap(cm, annot=True, fmt=\"d\", cmap=\"Blues\", xticklabels=['NORMAL', 'PNEUMONIA'], yticklabels=['NORMAL', 'PNEUMONIA'])\n",
    "    plt.title(\"Confusion Matrix\")\n",
    "    plt.xlabel(\"Predicted\")\n",
    "    plt.ylabel(\"True\")\n",
    "    plt.show()"
   ],
   "id": "271a0518641df87a",
   "outputs": [],
   "execution_count": 10
  },
  {
   "metadata": {
    "ExecuteTime": {
     "end_time": "2025-05-16T19:52:17.917157Z",
     "start_time": "2025-05-16T14:25:28.265969Z"
    }
   },
   "cell_type": "code",
   "source": [
    "# Run training and evaluation\n",
    "train_model(model, epochs=5)\n",
    "evaluate_model(model)"
   ],
   "id": "6a41f0516822b291",
   "outputs": [
    {
     "name": "stdout",
     "output_type": "stream",
     "text": [
      "Epoch 1/5 | Loss: 18.4445 | Val Acc: 96.97% | Val F1: 0.9792\n",
      "Epoch 2/5 | Loss: 9.1847 | Val Acc: 96.89% | Val F1: 0.9787\n",
      "Epoch 3/5 | Loss: 7.2127 | Val Acc: 97.20% | Val F1: 0.9808\n",
      "Epoch 4/5 | Loss: 6.9733 | Val Acc: 97.35% | Val F1: 0.9819\n",
      "Epoch 5/5 | Loss: 5.8156 | Val Acc: 98.11% | Val F1: 0.9868\n",
      "\n",
      "🎯 Test Accuracy: 86.38%\n",
      "🎯 Test F1 Score: 0.9015\n",
      "\n",
      "Detailed Classification Report:\n",
      "              precision    recall  f1-score   support\n",
      "\n",
      "      NORMAL       0.99      0.64      0.78       234\n",
      "   PNEUMONIA       0.82      1.00      0.90       390\n",
      "\n",
      "    accuracy                           0.86       624\n",
      "   macro avg       0.91      0.82      0.84       624\n",
      "weighted avg       0.89      0.86      0.86       624\n",
      "\n"
     ]
    },
    {
     "data": {
      "text/plain": [
       "<Figure size 600x500 with 2 Axes>"
      ],
      "image/png": "[encoded data removed]"
     },
     "metadata": {},
     "output_type": "display_data"
    }
   ],
   "execution_count": 11
  },
  {
   "metadata": {},
   "cell_type": "code",
   "outputs": [],
   "execution_count": null,
   "source": "",
   "id": "fc1d386dab7e6470"
  }
 ],
 "metadata": {
  "kernelspec": {
   "display_name": "Python 3",
   "language": "python",
   "name": "python3"
  },
  "language_info": {
   "codemirror_mode": {
    "name": "ipython",
    "version": 2
   },
   "file_extension": ".py",
   "mimetype": "text/x-python",
   "name": "python",
   "nbconvert_exporter": "python",
   "pygments_lexer": "ipython2",
   "version": "2.7.6"
  }
 },
 "nbformat": 4,
 "nbformat_minor": 5
}
